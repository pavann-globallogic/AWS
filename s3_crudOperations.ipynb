{
  "nbformat": 4,
  "nbformat_minor": 0,
  "metadata": {
    "colab": {
      "provenance": [],
      "authorship_tag": "ABX9TyOlo+xZn/m52zXyUFu4F/3F",
      "include_colab_link": true
    },
    "kernelspec": {
      "name": "python3",
      "display_name": "Python 3"
    },
    "language_info": {
      "name": "python"
    }
  },
  "cells": [
    {
      "cell_type": "markdown",
      "metadata": {
        "id": "view-in-github",
        "colab_type": "text"
      },
      "source": [
        "<a href=\"https://colab.research.google.com/github/pavann-globallogic/AWS/blob/main/s3_crudOperations.ipynb\" target=\"_parent\"><img src=\"https://colab.research.google.com/assets/colab-badge.svg\" alt=\"Open In Colab\"/></a>"
      ]
    },
    {
      "cell_type": "code",
      "execution_count": null,
      "metadata": {
        "id": "1KICOuSShiA_"
      },
      "outputs": [],
      "source": [
        "pip install boto3"
      ]
    },
    {
      "cell_type": "markdown",
      "source": [
        "#To create s3 session:\n"
      ],
      "metadata": {
        "id": "IjdAtrUEhmou"
      }
    },
    {
      "cell_type": "code",
      "source": [
        "import boto3\n",
        "# Create a session using your AWS credentials\n",
        "session = boto3.Session(\n",
        "    aws_access_key_id='YOUR_ACCESS_KEY',\n",
        "    aws_secret_access_key='YOUR_SECRET_KEY',\n",
        "    region_name='YOUR_REGION'  # e.g., 'us-west-1'\n",
        ")\n",
        "# Connect to the S3 service\n",
        "s3 = session.resource('s3')\n",
        "\n"
      ],
      "metadata": {
        "id": "NgWyMxY1h0nm"
      },
      "execution_count": null,
      "outputs": []
    },
    {
      "cell_type": "markdown",
      "source": [
        "#CRUD OPERATIONS:\n",
        "\n",
        "# **Creating a Bucket**"
      ],
      "metadata": {
        "id": "ThJ7BLqKil0i"
      }
    },
    {
      "cell_type": "code",
      "source": [
        "import boto3\n",
        "from botocore.exceptions import NoCredentialsError, PartialCredentialsError\n",
        "\n",
        "def create_s3_bucket(bucket_name, region='us-east-1'):\n",
        "\n",
        "    try:\n",
        "        # Create the S3 bucket\n",
        "        response = s3.create_bucket(\n",
        "            Bucket=bucket_name,\n",
        "            CreateBucketConfiguration={'LocationConstraint': region}\n",
        "        )\n",
        "        print(f\"Bucket '{bucket_name}' created successfully.\")\n",
        "        return response\n",
        "    except NoCredentialsError:\n",
        "        print(\"Credentials not found.\")\n",
        "    except PartialCredentialsError:\n",
        "        print(\"Incomplete credentials provided.\")\n",
        "    except Exception as e:\n",
        "        print(f\"Error creating bucket: {e}\")\n",
        "\n",
        "# Example usage\n",
        "bucket_name = \"my-new-bucket-12345\"\n",
        "create_s3_bucket(bucket_name)\n"
      ],
      "metadata": {
        "id": "3d0BdMZnikcb"
      },
      "execution_count": null,
      "outputs": []
    },
    {
      "cell_type": "markdown",
      "source": [
        "\n",
        "\n",
        "#Uploading object into S3:\n",
        "\n",
        "\n"
      ],
      "metadata": {
        "id": "zcIXO7Ish34L"
      }
    },
    {
      "cell_type": "code",
      "source": [
        "def upload_file(bucket_name, file_name, object_name=None):\n",
        "    if object_name is None:\n",
        "        object_name = file_name\n",
        "\n",
        "    try:\n",
        "        s3.Bucket(bucket_name).upload_file(file_name, object_name)\n",
        "        print(f\"{file_name} has been uploaded to {bucket_name}/{object_name}\")\n",
        "    except Exception as e:\n",
        "        print(f\"Failed to upload {file_name} to {bucket_name}/{object_name}: {e}\")\n",
        "\n",
        "\n"
      ],
      "metadata": {
        "id": "C_UPGcavh7KU"
      },
      "execution_count": null,
      "outputs": []
    },
    {
      "cell_type": "markdown",
      "source": [
        "#Downloading a file from S3:\n",
        "\n"
      ],
      "metadata": {
        "id": "UmhGLLjPh9kK"
      }
    },
    {
      "cell_type": "code",
      "source": [
        "def download_file(bucket_name, object_name, file_name=None):\n",
        "    if file_name is None:\n",
        "        file_name = object_name\n",
        "\n",
        "    try:\n",
        "        s3.Bucket(bucket_name).download_file(object_name, file_name)\n",
        "        print(f\"{object_name} has been downloaded from {bucket_name} to {file_name}\")\n",
        "    except Exception as e:\n",
        "        print(f\"Failed to download {object_name} from {bucket_name}: {e}\")\n",
        "\n"
      ],
      "metadata": {
        "id": "Rst7o6uwiAOc"
      },
      "execution_count": null,
      "outputs": []
    },
    {
      "cell_type": "markdown",
      "source": [
        "#Listing objects in an S3 bucket:\n",
        "\n"
      ],
      "metadata": {
        "id": "h6DhU-E6jW85"
      }
    },
    {
      "cell_type": "code",
      "source": [
        "def list_objects(bucket_name):\n",
        "    try:\n",
        "        bucket = s3.Bucket(bucket_name)\n",
        "        for obj in bucket.objects.all():\n",
        "            print(obj.key)\n",
        "    except Exception as e:\n",
        "        print(f\"Failed to list objects in {bucket_name}: {e}\")\n",
        "\n",
        "\n"
      ],
      "metadata": {
        "id": "eoABPLWFiFca"
      },
      "execution_count": null,
      "outputs": []
    },
    {
      "cell_type": "markdown",
      "source": [
        "#Deleting an object from S3:\n",
        "\n"
      ],
      "metadata": {
        "id": "63KHHpRniKiO"
      }
    },
    {
      "cell_type": "code",
      "source": [
        "def delete_file(bucket_name, object_name):\n",
        "    try:\n",
        "        s3.Object(bucket_name, object_name).delete()\n",
        "        print(f\"{object_name} has been deleted from {bucket_name}\")\n",
        "    except Exception as e:\n",
        "        print(f\"Failed to delete {object_name} from {bucket_name}: {e}\")\n",
        "\n",
        "\n"
      ],
      "metadata": {
        "id": "k--3PL5JiM7Y"
      },
      "execution_count": null,
      "outputs": []
    },
    {
      "cell_type": "markdown",
      "source": [
        "# to Read Data from an S3 Object:\n",
        "\n"
      ],
      "metadata": {
        "id": "PvcbN4fQji-e"
      }
    },
    {
      "cell_type": "code",
      "source": [
        "import boto3\n",
        "\n",
        "def read_s3_object(bucket_name, object_key):\n",
        "    # Create an S3 client\n",
        "    s3 = boto3.client('s3')\n",
        "\n",
        "    try:\n",
        "        # Get the object from the specified bucket\n",
        "        response = s3.get_object(Bucket=bucket_name, Key=object_key)\n",
        "\n",
        "        # The content of the object (file) is stored in the 'Body' field\n",
        "        data = response['Body'].read().decode('utf-8')\n",
        "\n",
        "        # Print or return the content\n",
        "        print(data)\n",
        "        return data\n",
        "    except Exception as e:\n",
        "        print(f\"Error reading object {object_key}: {e}\")\n",
        "\n",
        "# Example usage\n",
        "bucket_name = \"my-bucket\"\n",
        "object_key = \"example_file.txt\"\n",
        "read_s3_object(bucket_name, object_key)\n"
      ],
      "metadata": {
        "id": "VLjA9SS8jhSm"
      },
      "execution_count": null,
      "outputs": []
    },
    {
      "cell_type": "markdown",
      "source": [
        "#Adding tag to object:\n",
        "\n"
      ],
      "metadata": {
        "id": "IqXtGAJpiPTI"
      }
    },
    {
      "cell_type": "code",
      "source": [
        "import boto3\n",
        "\n",
        "s3 = boto3.client('s3')\n",
        "response = s3.put_object_tagging(\n",
        "    Bucket='your-bucket-name',\n",
        "    Key='your-object-key',\n",
        "    Tagging={'TagSet': [\n",
        "        {'Key': 'tag1', 'Value': 'value1'},\n",
        "        {'Key': 'tag2', 'Value': 'value2'},\n",
        "    ]}\n",
        ")\n",
        "\n"
      ],
      "metadata": {
        "id": "6aWZlJ_yiRbj"
      },
      "execution_count": null,
      "outputs": []
    }
  ]
}